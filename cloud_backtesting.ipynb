{
 "cells": [
  {
   "cell_type": "code",
   "execution_count": 25,
   "id": "1f3681d5",
   "metadata": {},
   "outputs": [],
   "source": [
    "#from tiingo import TiingoClient\n",
    "import pandas as pd\n",
    "from datetime import datetime\n",
    "from backtesting import Backtest, Strategy\n",
    "from backtesting.lib import crossover, cross, SignalStrategy, plot_heatmaps\n",
    "from backtesting.test import SMA, GOOG\n",
    "import requests"
   ]
  },
  {
   "cell_type": "code",
   "execution_count": 2,
   "id": "59d06139",
   "metadata": {},
   "outputs": [],
   "source": [
    "resp = requests.get('https://api.kraken.com/0/public/OHLC?pair=XBTUSD&interval=240&since=1522030972') "
   ]
  },
  {
   "cell_type": "code",
   "execution_count": 3,
   "id": "ac7af0ac",
   "metadata": {},
   "outputs": [],
   "source": [
    "resp.json()\n",
    "dat = resp.json()['result']\n",
    "data = {}\n",
    "#Using this to format the data into a pandas dataframe"
   ]
  },
  {
   "cell_type": "code",
   "execution_count": 4,
   "id": "3abf7e19",
   "metadata": {},
   "outputs": [],
   "source": [
    "for i in range(len(dat['XXBTZUSD'])):\n",
    "    data[dat['XXBTZUSD'][i][0]] = dat['XXBTZUSD'][i][1:]\n"
   ]
  },
  {
   "cell_type": "code",
   "execution_count": 5,
   "id": "94763cc5",
   "metadata": {},
   "outputs": [],
   "source": [
    "dates = [datetime.fromtimestamp(key) for key in data.keys()]"
   ]
  },
  {
   "cell_type": "code",
   "execution_count": 6,
   "id": "883a3ec2",
   "metadata": {},
   "outputs": [],
   "source": [
    "ohlc_data = [value[:6] for value in data.values()]"
   ]
  },
  {
   "cell_type": "code",
   "execution_count": 7,
   "id": "c444b5db",
   "metadata": {},
   "outputs": [],
   "source": [
    "ohlc_dict = {'Open': [float(val[0]) for val in ohlc_data],\n",
    "             'High': [float(val[1]) for val in ohlc_data],\n",
    "             'Low': [float(val[2]) for val in ohlc_data],\n",
    "             'Close': [float(val[3]) for val in ohlc_data],\n",
    "             'Volume': [float(val[5]) for val in ohlc_data]}"
   ]
  },
  {
   "cell_type": "code",
   "execution_count": 8,
   "id": "4bc8126c",
   "metadata": {},
   "outputs": [],
   "source": [
    "df = pd.DataFrame(ohlc_dict, index=dates)"
   ]
  },
  {
   "cell_type": "code",
   "execution_count": 9,
   "id": "299aa311",
   "metadata": {},
   "outputs": [],
   "source": [
    "df = (df / 1e6).assign(Volume=df.Volume * 1e6)\n",
    "#Because backtesting.py is made for stocks, It doesn't support buying incremental values of BTC so to get around that we're just using price per Sat"
   ]
  },
  {
   "cell_type": "code",
   "execution_count": 11,
   "id": "fbb5aa8b",
   "metadata": {},
   "outputs": [],
   "source": [
    "class SmaCross(Strategy):\n",
    "    n1 = 10\n",
    "    n2 = 20\n",
    "\n",
    "    def init(self):\n",
    "        close = self.data.Close\n",
    "        self.sma1 = self.I(SMA, close, self.n1)\n",
    "        self.sma2 = self.I(SMA, close, self.n2)\n",
    "\n",
    "    def next(self):\n",
    "        if crossover(self.sma1, self.sma2):\n",
    "            self.buy()\n",
    "        elif crossover(self.sma2, self.sma1):\n",
    "            self.sell()\n",
    "\n",
    "#Unused for the cloud strategy, just using as reference"
   ]
  },
  {
   "cell_type": "code",
   "execution_count": 10,
   "id": "8a3b5a2a",
   "metadata": {},
   "outputs": [],
   "source": [
    "def maxminIch(n1, n2):\n",
    "    line = (n1+n2)/2\n",
    "    return line"
   ]
  },
  {
   "attachments": {},
   "cell_type": "markdown",
   "id": "2e2a0153",
   "metadata": {},
   "source": [
    "These functions are calculating the average of period highs/lows for each line. \n",
    "I decided to use multiple functions over a single one (as you can see they all do the same thing) simply for better readability in the strat definition."
   ]
  },
  {
   "cell_type": "code",
   "execution_count": 12,
   "id": "3dae2eb7",
   "metadata": {},
   "outputs": [],
   "source": [
    "def Tenkan(n1, n2):\n",
    "    line = (n1+n2)/2\n",
    "    return line"
   ]
  },
  {
   "cell_type": "code",
   "execution_count": 13,
   "id": "44b32dee",
   "metadata": {},
   "outputs": [],
   "source": [
    "def Kijun(n1, n2):\n",
    "    line = (n1+n2)/2\n",
    "    return line"
   ]
  },
  {
   "cell_type": "code",
   "execution_count": 14,
   "metadata": {},
   "outputs": [],
   "source": [
    "def addshift(s1, window):\n",
    "    shifted = s1.shift(window)\n",
    "    return shifted"
   ]
  },
  {
   "cell_type": "code",
   "execution_count": 15,
   "id": "3d7700c8",
   "metadata": {},
   "outputs": [],
   "source": [
    "def senkouA(s1, window):\n",
    "    shifted = s1.shift(window).fillna(0)\n",
    "    return shifted"
   ]
  },
  {
   "cell_type": "code",
   "execution_count": 16,
   "id": "e3591254",
   "metadata": {},
   "outputs": [],
   "source": [
    "def senkouB(s1, window):\n",
    "    shifted = s1.shift(window).fillna(0)\n",
    "    return shifted"
   ]
  },
  {
   "cell_type": "code",
   "execution_count": 17,
   "id": "601e5f12",
   "metadata": {},
   "outputs": [
    {
     "data": {
      "text/plain": [
       "2024-03-18 15:00:00    0.000000\n",
       "2024-03-18 19:00:00    0.000000\n",
       "2024-03-18 23:00:00    0.000000\n",
       "2024-03-19 03:00:00    0.000000\n",
       "2024-03-19 07:00:00    0.000000\n",
       "                         ...   \n",
       "2024-07-15 19:00:00    0.056888\n",
       "2024-07-15 23:00:00    0.056888\n",
       "2024-07-16 03:00:00    0.057214\n",
       "2024-07-16 07:00:00    0.057227\n",
       "2024-07-16 11:00:00    0.057227\n",
       "Length: 720, dtype: float64"
      ]
     },
     "execution_count": 17,
     "metadata": {},
     "output_type": "execute_result"
    }
   ],
   "source": [
    "t = maxminIch(df['High'].rolling(20).max(), df['Low'].rolling(20).min())\n",
    "k = maxminIch(df['High'].rolling(60).max(), df['Low'].rolling(60).min())\n",
    "senkouB(((df['High'].rolling(20).max() + df['Low'].rolling(20).min()) / 2), 30)\n",
    "#((df['High'].rolling(20).max() + df['Low'].rolling(20).min()) / 2)\n",
    "\n",
    "#T and K are rolling averages of the period high and lows"
   ]
  },
  {
   "cell_type": "code",
   "execution_count": 18,
   "id": "9363d325",
   "metadata": {},
   "outputs": [],
   "source": [
    "class IchimokuCloud(Strategy): #This should be a signal strategy - signals equal to actionable cloud patterns, set entry then pass to set signal\n",
    "    nt = 20\n",
    "    nk = 60\n",
    "    nsb = 120\n",
    "    nc = 30\n",
    "    \n",
    "    def init(self):\n",
    "        close=self.data.Close\n",
    "        self.tenkan = self.I(Tenkan, self.data['High'].s.rolling(self.nt).max(), self.data['Low'].s.rolling(self.nt).min())\n",
    "        self.kijun = self.I(Kijun, self.data['High'].s.rolling(self.nk).max(), self.data['Low'].s.rolling(self.nk).min())\n",
    "        self.senkouA = self.I(senkouA,\n",
    "                              (maxminIch(self.data['High'].s.rolling(self.nt).max(), self.data['Low'].s.rolling(self.nt).min()) + maxminIch(self.data['High'].s.rolling(self.nk).max(), self.data['Low'].s.rolling(self.nk).min()))/2,\n",
    "                              self.nc)\n",
    "        self.senkouB = self.I(senkouB, maxminIch(self.data['High'].s.rolling(self.nsb).max(), self.data['Low'].s.rolling(self.nsb).min()), self.nc)\n",
    "        self.lagging = self.I(addshift, close.s, (self.nc * -1))\n",
    "        \n",
    "    def next(self): #Kumo twist: If Senkou B > Senkou A and next-price > SB, Buy\n",
    "        if (crossover(self.data.Close, self.senkouB) and self.senkouB > self.senkouA): \n",
    "            self.buy()\n",
    "        elif (cross(self.tenkan, self.kijun) and self.kijun > self.tenkan):\n",
    "            self.sell()"
   ]
  },
  {
   "attachments": {},
   "cell_type": "markdown",
   "id": "4544976b",
   "metadata": {},
   "source": [
    "These frames are the cloud strategy. I haven't delved too deep in Backtesting.py so they're fairly simple. It probably wouldn't be difficult to flesh these out into a full strategy. Definitley keep model overfitting in your mind when testing strategies. Here's a great resource to read about it if you're interested: https://www.davidhbailey.com/dhbtalks/battle-quants.pdf"
   ]
  },
  {
   "cell_type": "code",
   "execution_count": 19,
   "id": "fc520ef6",
   "metadata": {},
   "outputs": [],
   "source": [
    "class IchimokuSignals(SignalStrategy):\n",
    "    nt = 20\n",
    "    nk = 60\n",
    "    nsb = 120\n",
    "    nc = 30\n",
    "    \n",
    "    def init(self):\n",
    "        super().init()\n",
    "        #precompute cloud\n",
    "        close=self.data.Close\n",
    "        self.tenkan = self.I(Tenkan, self.data['High'].s.rolling(self.nt).max(), self.data['Low'].s.rolling(self.nt).min())\n",
    "        self.kijun = self.I(Kijun, self.data['High'].s.rolling(self.nk).max(), self.data['Low'].s.rolling(self.nk).min())\n",
    "        self.senkouA = self.I(senkouA,\n",
    "                              (maxminIch(self.data['High'].s.rolling(self.nt).max(), self.data['Low'].s.rolling(self.nt).min()) + maxminIch(self.data['High'].s.rolling(self.nk).max(), self.data['Low'].s.rolling(self.nk).min()))/2,\n",
    "                              self.nc)\n",
    "        self.senkouB = self.I(senkouB, maxminIch(self.data['High'].s.rolling(self.nsb).max(), self.data['Low'].s.rolling(self.nsb).min()), self.nc)\n",
    "        self.lagging = self.I(addshift, close.s, (self.nc * -1))\n",
    "        #establish signal points:\n",
    "        signal = crossover(self.data.Close, self.senkouB) and self.senkouB > self.senkouA #Simple cloud cross strategy\n",
    "        signal = signal"
   ]
  },
  {
   "cell_type": "code",
   "execution_count": 20,
   "id": "a7127540",
   "metadata": {},
   "outputs": [],
   "source": [
    "bt = Backtest(df, IchimokuCloud,\n",
    "              cash=100, commission=.002,\n",
    "              exclusive_orders=True, margin=0.5)"
   ]
  },
  {
   "attachments": {},
   "cell_type": "markdown",
   "id": "f5075eab",
   "metadata": {},
   "source": [
    "This function starts the backtest, values can be anything you want. Exclusive orders just means you wont open new positions if you're already in one."
   ]
  },
  {
   "cell_type": "code",
   "execution_count": 21,
   "id": "9d879022",
   "metadata": {},
   "outputs": [
    {
     "name": "stderr",
     "output_type": "stream",
     "text": [
      "BokehDeprecationWarning: Passing lists of formats for DatetimeTickFormatter scales was deprecated in Bokeh 3.0. Configure a single string format for each scale\n",
      "/Users/iowapsychopath/anaconda3/lib/python3.11/site-packages/backtesting/_plotting.py:250: UserWarning: DatetimeFormatter scales now only accept a single format. Using the first provided: '%d %b'\n",
      "  formatter=DatetimeTickFormatter(days=['%d %b', '%a %d'],\n",
      "BokehDeprecationWarning: Passing lists of formats for DatetimeTickFormatter scales was deprecated in Bokeh 3.0. Configure a single string format for each scale\n",
      "/Users/iowapsychopath/anaconda3/lib/python3.11/site-packages/backtesting/_plotting.py:250: UserWarning: DatetimeFormatter scales now only accept a single format. Using the first provided: '%m/%Y'\n",
      "  formatter=DatetimeTickFormatter(days=['%d %b', '%a %d'],\n"
     ]
    },
    {
     "data": {
      "text/html": [
       "<div style=\"display: table;\"><div style=\"display: table-row;\"><div style=\"display: table-cell;\"><b title=\"bokeh.models.plots.GridPlot\">GridPlot</b>(</div><div style=\"display: table-cell;\">id&nbsp;=&nbsp;'p1339', <span id=\"p1374\" style=\"cursor: pointer;\">&hellip;)</span></div></div><div class=\"p1373\" style=\"display: none;\"><div style=\"display: table-cell;\"></div><div style=\"display: table-cell;\">align&nbsp;=&nbsp;'auto',</div></div><div class=\"p1373\" style=\"display: none;\"><div style=\"display: table-cell;\"></div><div style=\"display: table-cell;\">aspect_ratio&nbsp;=&nbsp;None,</div></div><div class=\"p1373\" style=\"display: none;\"><div style=\"display: table-cell;\"></div><div style=\"display: table-cell;\">children&nbsp;=&nbsp;[(figure(id='p1042', ...), 0, 0), (figure(id='p1135', ...), 1, 0), (figure(id='p1002', ...), 2, 0), (figure(id='p1186', ...), 3, 0)],</div></div><div class=\"p1373\" style=\"display: none;\"><div style=\"display: table-cell;\"></div><div style=\"display: table-cell;\">cols&nbsp;=&nbsp;None,</div></div><div class=\"p1373\" style=\"display: none;\"><div style=\"display: table-cell;\"></div><div style=\"display: table-cell;\">context_menu&nbsp;=&nbsp;None,</div></div><div class=\"p1373\" style=\"display: none;\"><div style=\"display: table-cell;\"></div><div style=\"display: table-cell;\">css_classes&nbsp;=&nbsp;[],</div></div><div class=\"p1373\" style=\"display: none;\"><div style=\"display: table-cell;\"></div><div style=\"display: table-cell;\">disabled&nbsp;=&nbsp;False,</div></div><div class=\"p1373\" style=\"display: none;\"><div style=\"display: table-cell;\"></div><div style=\"display: table-cell;\">flow_mode&nbsp;=&nbsp;'block',</div></div><div class=\"p1373\" style=\"display: none;\"><div style=\"display: table-cell;\"></div><div style=\"display: table-cell;\">height&nbsp;=&nbsp;None,</div></div><div class=\"p1373\" style=\"display: none;\"><div style=\"display: table-cell;\"></div><div style=\"display: table-cell;\">height_policy&nbsp;=&nbsp;'auto',</div></div><div class=\"p1373\" style=\"display: none;\"><div style=\"display: table-cell;\"></div><div style=\"display: table-cell;\">js_event_callbacks&nbsp;=&nbsp;{},</div></div><div class=\"p1373\" style=\"display: none;\"><div style=\"display: table-cell;\"></div><div style=\"display: table-cell;\">js_property_callbacks&nbsp;=&nbsp;{},</div></div><div class=\"p1373\" style=\"display: none;\"><div style=\"display: table-cell;\"></div><div style=\"display: table-cell;\">margin&nbsp;=&nbsp;None,</div></div><div class=\"p1373\" style=\"display: none;\"><div style=\"display: table-cell;\"></div><div style=\"display: table-cell;\">max_height&nbsp;=&nbsp;None,</div></div><div class=\"p1373\" style=\"display: none;\"><div style=\"display: table-cell;\"></div><div style=\"display: table-cell;\">max_width&nbsp;=&nbsp;None,</div></div><div class=\"p1373\" style=\"display: none;\"><div style=\"display: table-cell;\"></div><div style=\"display: table-cell;\">min_height&nbsp;=&nbsp;None,</div></div><div class=\"p1373\" style=\"display: none;\"><div style=\"display: table-cell;\"></div><div style=\"display: table-cell;\">min_width&nbsp;=&nbsp;None,</div></div><div class=\"p1373\" style=\"display: none;\"><div style=\"display: table-cell;\"></div><div style=\"display: table-cell;\">name&nbsp;=&nbsp;None,</div></div><div class=\"p1373\" style=\"display: none;\"><div style=\"display: table-cell;\"></div><div style=\"display: table-cell;\">resizable&nbsp;=&nbsp;False,</div></div><div class=\"p1373\" style=\"display: none;\"><div style=\"display: table-cell;\"></div><div style=\"display: table-cell;\">rows&nbsp;=&nbsp;None,</div></div><div class=\"p1373\" style=\"display: none;\"><div style=\"display: table-cell;\"></div><div style=\"display: table-cell;\">sizing_mode&nbsp;=&nbsp;'stretch_width',</div></div><div class=\"p1373\" style=\"display: none;\"><div style=\"display: table-cell;\"></div><div style=\"display: table-cell;\">spacing&nbsp;=&nbsp;0,</div></div><div class=\"p1373\" style=\"display: none;\"><div style=\"display: table-cell;\"></div><div style=\"display: table-cell;\">styles&nbsp;=&nbsp;{},</div></div><div class=\"p1373\" style=\"display: none;\"><div style=\"display: table-cell;\"></div><div style=\"display: table-cell;\">stylesheets&nbsp;=&nbsp;[],</div></div><div class=\"p1373\" style=\"display: none;\"><div style=\"display: table-cell;\"></div><div style=\"display: table-cell;\">subscribed_events&nbsp;=&nbsp;PropertyValueSet(),</div></div><div class=\"p1373\" style=\"display: none;\"><div style=\"display: table-cell;\"></div><div style=\"display: table-cell;\">syncable&nbsp;=&nbsp;True,</div></div><div class=\"p1373\" style=\"display: none;\"><div style=\"display: table-cell;\"></div><div style=\"display: table-cell;\">tags&nbsp;=&nbsp;[],</div></div><div class=\"p1373\" style=\"display: none;\"><div style=\"display: table-cell;\"></div><div style=\"display: table-cell;\">toolbar&nbsp;=&nbsp;Toolbar(id='p1338', ...),</div></div><div class=\"p1373\" style=\"display: none;\"><div style=\"display: table-cell;\"></div><div style=\"display: table-cell;\">toolbar_location&nbsp;=&nbsp;'right',</div></div><div class=\"p1373\" style=\"display: none;\"><div style=\"display: table-cell;\"></div><div style=\"display: table-cell;\">visible&nbsp;=&nbsp;True,</div></div><div class=\"p1373\" style=\"display: none;\"><div style=\"display: table-cell;\"></div><div style=\"display: table-cell;\">width&nbsp;=&nbsp;None,</div></div><div class=\"p1373\" style=\"display: none;\"><div style=\"display: table-cell;\"></div><div style=\"display: table-cell;\">width_policy&nbsp;=&nbsp;'auto')</div></div></div>\n",
       "<script>\n",
       "(function() {\n",
       "  let expanded = false;\n",
       "  const ellipsis = document.getElementById(\"p1374\");\n",
       "  ellipsis.addEventListener(\"click\", function() {\n",
       "    const rows = document.getElementsByClassName(\"p1373\");\n",
       "    for (let i = 0; i < rows.length; i++) {\n",
       "      const el = rows[i];\n",
       "      el.style.display = expanded ? \"none\" : \"table-row\";\n",
       "    }\n",
       "    ellipsis.innerHTML = expanded ? \"&hellip;)\" : \"&lsaquo;&lsaquo;&lsaquo;\";\n",
       "    expanded = !expanded;\n",
       "  });\n",
       "})();\n",
       "</script>\n"
      ],
      "text/plain": [
       "GridPlot(id='p1339', ...)"
      ]
     },
     "execution_count": 21,
     "metadata": {},
     "output_type": "execute_result"
    }
   ],
   "source": [
    "output = bt.run()\n",
    "bt.plot()"
   ]
  },
  {
   "cell_type": "code",
   "execution_count": 22,
   "id": "acd655bc",
   "metadata": {},
   "outputs": [
    {
     "data": {
      "text/html": [
       "<div>\n",
       "<style scoped>\n",
       "    .dataframe tbody tr th:only-of-type {\n",
       "        vertical-align: middle;\n",
       "    }\n",
       "\n",
       "    .dataframe tbody tr th {\n",
       "        vertical-align: top;\n",
       "    }\n",
       "\n",
       "    .dataframe thead th {\n",
       "        text-align: right;\n",
       "    }\n",
       "</style>\n",
       "<table border=\"1\" class=\"dataframe\">\n",
       "  <thead>\n",
       "    <tr style=\"text-align: right;\">\n",
       "      <th></th>\n",
       "      <th>Size</th>\n",
       "      <th>EntryBar</th>\n",
       "      <th>ExitBar</th>\n",
       "      <th>EntryPrice</th>\n",
       "      <th>ExitPrice</th>\n",
       "      <th>PnL</th>\n",
       "      <th>ReturnPct</th>\n",
       "      <th>EntryTime</th>\n",
       "      <th>ExitTime</th>\n",
       "      <th>Duration</th>\n",
       "    </tr>\n",
       "  </thead>\n",
       "  <tbody>\n",
       "    <tr>\n",
       "      <th>0</th>\n",
       "      <td>-3027</td>\n",
       "      <td>93</td>\n",
       "      <td>150</td>\n",
       "      <td>0.066054</td>\n",
       "      <td>0.066862</td>\n",
       "      <td>-2.445126</td>\n",
       "      <td>-0.012229</td>\n",
       "      <td>2024-04-03 03:00:00</td>\n",
       "      <td>2024-04-12 15:00:00</td>\n",
       "      <td>9 days 12:00:00</td>\n",
       "    </tr>\n",
       "    <tr>\n",
       "      <th>1</th>\n",
       "      <td>-2923</td>\n",
       "      <td>150</td>\n",
       "      <td>210</td>\n",
       "      <td>0.066728</td>\n",
       "      <td>0.066589</td>\n",
       "      <td>0.406522</td>\n",
       "      <td>0.002084</td>\n",
       "      <td>2024-04-12 15:00:00</td>\n",
       "      <td>2024-04-22 15:00:00</td>\n",
       "      <td>10 days 00:00:00</td>\n",
       "    </tr>\n",
       "    <tr>\n",
       "      <th>2</th>\n",
       "      <td>2936</td>\n",
       "      <td>210</td>\n",
       "      <td>215</td>\n",
       "      <td>0.066722</td>\n",
       "      <td>0.066423</td>\n",
       "      <td>-0.877210</td>\n",
       "      <td>-0.004478</td>\n",
       "      <td>2024-04-22 15:00:00</td>\n",
       "      <td>2024-04-23 11:00:00</td>\n",
       "      <td>0 days 20:00:00</td>\n",
       "    </tr>\n",
       "    <tr>\n",
       "      <th>3</th>\n",
       "      <td>2917</td>\n",
       "      <td>215</td>\n",
       "      <td>248</td>\n",
       "      <td>0.066556</td>\n",
       "      <td>0.062280</td>\n",
       "      <td>-12.472352</td>\n",
       "      <td>-0.064243</td>\n",
       "      <td>2024-04-23 11:00:00</td>\n",
       "      <td>2024-04-28 23:00:00</td>\n",
       "      <td>5 days 12:00:00</td>\n",
       "    </tr>\n",
       "    <tr>\n",
       "      <th>4</th>\n",
       "      <td>-2722</td>\n",
       "      <td>248</td>\n",
       "      <td>291</td>\n",
       "      <td>0.062156</td>\n",
       "      <td>0.064559</td>\n",
       "      <td>-6.540858</td>\n",
       "      <td>-0.038660</td>\n",
       "      <td>2024-04-28 23:00:00</td>\n",
       "      <td>2024-05-06 03:00:00</td>\n",
       "      <td>7 days 04:00:00</td>\n",
       "    </tr>\n",
       "    <tr>\n",
       "      <th>5</th>\n",
       "      <td>2413</td>\n",
       "      <td>291</td>\n",
       "      <td>297</td>\n",
       "      <td>0.064688</td>\n",
       "      <td>0.063682</td>\n",
       "      <td>-2.426072</td>\n",
       "      <td>-0.015543</td>\n",
       "      <td>2024-05-06 03:00:00</td>\n",
       "      <td>2024-05-07 03:00:00</td>\n",
       "      <td>1 days 00:00:00</td>\n",
       "    </tr>\n",
       "    <tr>\n",
       "      <th>6</th>\n",
       "      <td>2370</td>\n",
       "      <td>297</td>\n",
       "      <td>299</td>\n",
       "      <td>0.063810</td>\n",
       "      <td>0.063711</td>\n",
       "      <td>-0.234546</td>\n",
       "      <td>-0.001551</td>\n",
       "      <td>2024-05-07 03:00:00</td>\n",
       "      <td>2024-05-07 11:00:00</td>\n",
       "      <td>0 days 08:00:00</td>\n",
       "    </tr>\n",
       "    <tr>\n",
       "      <th>7</th>\n",
       "      <td>2362</td>\n",
       "      <td>299</td>\n",
       "      <td>311</td>\n",
       "      <td>0.063838</td>\n",
       "      <td>0.062144</td>\n",
       "      <td>-4.000334</td>\n",
       "      <td>-0.026530</td>\n",
       "      <td>2024-05-07 11:00:00</td>\n",
       "      <td>2024-05-09 11:00:00</td>\n",
       "      <td>2 days 00:00:00</td>\n",
       "    </tr>\n",
       "    <tr>\n",
       "      <th>8</th>\n",
       "      <td>2293</td>\n",
       "      <td>311</td>\n",
       "      <td>329</td>\n",
       "      <td>0.062269</td>\n",
       "      <td>0.061400</td>\n",
       "      <td>-1.991904</td>\n",
       "      <td>-0.013951</td>\n",
       "      <td>2024-05-09 11:00:00</td>\n",
       "      <td>2024-05-12 11:00:00</td>\n",
       "      <td>3 days 00:00:00</td>\n",
       "    </tr>\n",
       "    <tr>\n",
       "      <th>9</th>\n",
       "      <td>-2265</td>\n",
       "      <td>329</td>\n",
       "      <td>344</td>\n",
       "      <td>0.061277</td>\n",
       "      <td>0.061924</td>\n",
       "      <td>-1.464549</td>\n",
       "      <td>-0.010552</td>\n",
       "      <td>2024-05-12 11:00:00</td>\n",
       "      <td>2024-05-14 23:00:00</td>\n",
       "      <td>2 days 12:00:00</td>\n",
       "    </tr>\n",
       "    <tr>\n",
       "      <th>10</th>\n",
       "      <td>2190</td>\n",
       "      <td>344</td>\n",
       "      <td>414</td>\n",
       "      <td>0.062048</td>\n",
       "      <td>0.068839</td>\n",
       "      <td>14.873061</td>\n",
       "      <td>0.109454</td>\n",
       "      <td>2024-05-14 23:00:00</td>\n",
       "      <td>2024-05-26 15:00:00</td>\n",
       "      <td>11 days 16:00:00</td>\n",
       "    </tr>\n",
       "    <tr>\n",
       "      <th>11</th>\n",
       "      <td>-2411</td>\n",
       "      <td>414</td>\n",
       "      <td>432</td>\n",
       "      <td>0.068701</td>\n",
       "      <td>0.067211</td>\n",
       "      <td>3.592684</td>\n",
       "      <td>0.021690</td>\n",
       "      <td>2024-05-26 15:00:00</td>\n",
       "      <td>2024-05-29 15:00:00</td>\n",
       "      <td>3 days 00:00:00</td>\n",
       "    </tr>\n",
       "    <tr>\n",
       "      <th>12</th>\n",
       "      <td>-2576</td>\n",
       "      <td>432</td>\n",
       "      <td>506</td>\n",
       "      <td>0.067077</td>\n",
       "      <td>0.068420</td>\n",
       "      <td>-3.459884</td>\n",
       "      <td>-0.020024</td>\n",
       "      <td>2024-05-29 15:00:00</td>\n",
       "      <td>2024-06-10 23:00:00</td>\n",
       "      <td>12 days 08:00:00</td>\n",
       "    </tr>\n",
       "    <tr>\n",
       "      <th>13</th>\n",
       "      <td>-2429</td>\n",
       "      <td>506</td>\n",
       "      <td>705</td>\n",
       "      <td>0.068283</td>\n",
       "      <td>0.060122</td>\n",
       "      <td>19.822729</td>\n",
       "      <td>0.119515</td>\n",
       "      <td>2024-06-10 23:00:00</td>\n",
       "      <td>2024-07-14 03:00:00</td>\n",
       "      <td>33 days 04:00:00</td>\n",
       "    </tr>\n",
       "    <tr>\n",
       "      <th>14</th>\n",
       "      <td>3412</td>\n",
       "      <td>705</td>\n",
       "      <td>709</td>\n",
       "      <td>0.060243</td>\n",
       "      <td>0.060810</td>\n",
       "      <td>1.936158</td>\n",
       "      <td>0.009420</td>\n",
       "      <td>2024-07-14 03:00:00</td>\n",
       "      <td>2024-07-14 19:00:00</td>\n",
       "      <td>0 days 16:00:00</td>\n",
       "    </tr>\n",
       "    <tr>\n",
       "      <th>15</th>\n",
       "      <td>3437</td>\n",
       "      <td>709</td>\n",
       "      <td>719</td>\n",
       "      <td>0.060932</td>\n",
       "      <td>0.064898</td>\n",
       "      <td>13.632792</td>\n",
       "      <td>0.065097</td>\n",
       "      <td>2024-07-14 19:00:00</td>\n",
       "      <td>2024-07-16 11:00:00</td>\n",
       "      <td>1 days 16:00:00</td>\n",
       "    </tr>\n",
       "  </tbody>\n",
       "</table>\n",
       "</div>"
      ],
      "text/plain": [
       "    Size  EntryBar  ExitBar  EntryPrice  ExitPrice        PnL  ReturnPct  \\\n",
       "0  -3027        93      150    0.066054   0.066862  -2.445126  -0.012229   \n",
       "1  -2923       150      210    0.066728   0.066589   0.406522   0.002084   \n",
       "2   2936       210      215    0.066722   0.066423  -0.877210  -0.004478   \n",
       "3   2917       215      248    0.066556   0.062280 -12.472352  -0.064243   \n",
       "4  -2722       248      291    0.062156   0.064559  -6.540858  -0.038660   \n",
       "5   2413       291      297    0.064688   0.063682  -2.426072  -0.015543   \n",
       "6   2370       297      299    0.063810   0.063711  -0.234546  -0.001551   \n",
       "7   2362       299      311    0.063838   0.062144  -4.000334  -0.026530   \n",
       "8   2293       311      329    0.062269   0.061400  -1.991904  -0.013951   \n",
       "9  -2265       329      344    0.061277   0.061924  -1.464549  -0.010552   \n",
       "10  2190       344      414    0.062048   0.068839  14.873061   0.109454   \n",
       "11 -2411       414      432    0.068701   0.067211   3.592684   0.021690   \n",
       "12 -2576       432      506    0.067077   0.068420  -3.459884  -0.020024   \n",
       "13 -2429       506      705    0.068283   0.060122  19.822729   0.119515   \n",
       "14  3412       705      709    0.060243   0.060810   1.936158   0.009420   \n",
       "15  3437       709      719    0.060932   0.064898  13.632792   0.065097   \n",
       "\n",
       "             EntryTime            ExitTime         Duration  \n",
       "0  2024-04-03 03:00:00 2024-04-12 15:00:00  9 days 12:00:00  \n",
       "1  2024-04-12 15:00:00 2024-04-22 15:00:00 10 days 00:00:00  \n",
       "2  2024-04-22 15:00:00 2024-04-23 11:00:00  0 days 20:00:00  \n",
       "3  2024-04-23 11:00:00 2024-04-28 23:00:00  5 days 12:00:00  \n",
       "4  2024-04-28 23:00:00 2024-05-06 03:00:00  7 days 04:00:00  \n",
       "5  2024-05-06 03:00:00 2024-05-07 03:00:00  1 days 00:00:00  \n",
       "6  2024-05-07 03:00:00 2024-05-07 11:00:00  0 days 08:00:00  \n",
       "7  2024-05-07 11:00:00 2024-05-09 11:00:00  2 days 00:00:00  \n",
       "8  2024-05-09 11:00:00 2024-05-12 11:00:00  3 days 00:00:00  \n",
       "9  2024-05-12 11:00:00 2024-05-14 23:00:00  2 days 12:00:00  \n",
       "10 2024-05-14 23:00:00 2024-05-26 15:00:00 11 days 16:00:00  \n",
       "11 2024-05-26 15:00:00 2024-05-29 15:00:00  3 days 00:00:00  \n",
       "12 2024-05-29 15:00:00 2024-06-10 23:00:00 12 days 08:00:00  \n",
       "13 2024-06-10 23:00:00 2024-07-14 03:00:00 33 days 04:00:00  \n",
       "14 2024-07-14 03:00:00 2024-07-14 19:00:00  0 days 16:00:00  \n",
       "15 2024-07-14 19:00:00 2024-07-16 11:00:00  1 days 16:00:00  "
      ]
     },
     "execution_count": 22,
     "metadata": {},
     "output_type": "execute_result"
    }
   ],
   "source": [
    "output['_trades']"
   ]
  },
  {
   "cell_type": "code",
   "execution_count": 23,
   "id": "b86073fb",
   "metadata": {},
   "outputs": [
    {
     "data": {
      "text/plain": [
       "Start                     2024-03-18 15:00:00\n",
       "End                       2024-07-16 11:00:00\n",
       "Duration                    119 days 20:00:00\n",
       "Exposure Time [%]                   87.083333\n",
       "Equity Final [$]                    118.35111\n",
       "Equity Peak [$]                     118.35111\n",
       "Return [%]                           18.35111\n",
       "Buy & Hold Return [%]               -4.150444\n",
       "Return (Ann.) [%]                   66.236531\n",
       "Volatility (Ann.) [%]              174.603728\n",
       "Sharpe Ratio                         0.379353\n",
       "Sortino Ratio                        1.287542\n",
       "Calmar Ratio                         1.503059\n",
       "Max. Drawdown [%]                  -44.067816\n",
       "Avg. Drawdown [%]                  -10.959163\n",
       "Max. Drawdown Duration       78 days 16:00:00\n",
       "Avg. Drawdown Duration       11 days 12:00:00\n",
       "# Trades                                   16\n",
       "Win Rate [%]                             37.5\n",
       "Best Trade [%]                      11.951497\n",
       "Worst Trade [%]                     -6.424289\n",
       "Avg. Trade [%]                       0.634106\n",
       "Max. Trade Duration          33 days 04:00:00\n",
       "Avg. Trade Duration           6 days 13:00:00\n",
       "Profit Factor                         1.57518\n",
       "Expectancy [%]                       0.746871\n",
       "SQN                                  0.550738\n",
       "_strategy                       IchimokuCloud\n",
       "_equity_curve                             ...\n",
       "_trades                       Size  EntryB...\n",
       "dtype: object"
      ]
     },
     "execution_count": 23,
     "metadata": {},
     "output_type": "execute_result"
    }
   ],
   "source": [
    "output"
   ]
  },
  {
   "cell_type": "code",
   "execution_count": 28,
   "id": "b9ae3533",
   "metadata": {},
   "outputs": [
    {
     "name": "stderr",
     "output_type": "stream",
     "text": [
      "/Users/iowapsychopath/anaconda3/lib/python3.11/site-packages/backtesting/backtesting.py:1488: UserWarning: Searching for best of 1450 configurations.\n",
      "  output = _optimize_grid()\n",
      "/Users/iowapsychopath/anaconda3/lib/python3.11/site-packages/backtesting/backtesting.py:1375: UserWarning: For multiprocessing support in `Backtest.optimize()` set multiprocessing start method to 'fork'.\n",
      "  warnings.warn(\"For multiprocessing support in `Backtest.optimize()` \"\n"
     ]
    },
    {
     "data": {
      "application/vnd.jupyter.widget-view+json": {
       "model_id": "6f91d6975fa542f29505baea03f45d77",
       "version_major": 2,
       "version_minor": 0
      },
      "text/plain": [
       "  0%|          | 0/5 [00:00<?, ?it/s]"
      ]
     },
     "metadata": {},
     "output_type": "display_data"
    },
    {
     "data": {
      "text/html": [
       "<div style=\"display: table;\"><div style=\"display: table-row;\"><div style=\"display: table-cell;\"><b title=\"bokeh.models.plots.GridPlot\">GridPlot</b>(</div><div style=\"display: table-cell;\">id&nbsp;=&nbsp;'p1500', <span id=\"p1510\" style=\"cursor: pointer;\">&hellip;)</span></div></div><div class=\"p1509\" style=\"display: none;\"><div style=\"display: table-cell;\"></div><div style=\"display: table-cell;\">align&nbsp;=&nbsp;'auto',</div></div><div class=\"p1509\" style=\"display: none;\"><div style=\"display: table-cell;\"></div><div style=\"display: table-cell;\">aspect_ratio&nbsp;=&nbsp;None,</div></div><div class=\"p1509\" style=\"display: none;\"><div style=\"display: table-cell;\"></div><div style=\"display: table-cell;\">children&nbsp;=&nbsp;[(figure(id='p1376', ...), 0, 0), (figure(id='p1416', ...), 0, 1), (figure(id='p1456', ...), 0, 2)],</div></div><div class=\"p1509\" style=\"display: none;\"><div style=\"display: table-cell;\"></div><div style=\"display: table-cell;\">cols&nbsp;=&nbsp;None,</div></div><div class=\"p1509\" style=\"display: none;\"><div style=\"display: table-cell;\"></div><div style=\"display: table-cell;\">context_menu&nbsp;=&nbsp;None,</div></div><div class=\"p1509\" style=\"display: none;\"><div style=\"display: table-cell;\"></div><div style=\"display: table-cell;\">css_classes&nbsp;=&nbsp;[],</div></div><div class=\"p1509\" style=\"display: none;\"><div style=\"display: table-cell;\"></div><div style=\"display: table-cell;\">disabled&nbsp;=&nbsp;False,</div></div><div class=\"p1509\" style=\"display: none;\"><div style=\"display: table-cell;\"></div><div style=\"display: table-cell;\">flow_mode&nbsp;=&nbsp;'block',</div></div><div class=\"p1509\" style=\"display: none;\"><div style=\"display: table-cell;\"></div><div style=\"display: table-cell;\">height&nbsp;=&nbsp;None,</div></div><div class=\"p1509\" style=\"display: none;\"><div style=\"display: table-cell;\"></div><div style=\"display: table-cell;\">height_policy&nbsp;=&nbsp;'auto',</div></div><div class=\"p1509\" style=\"display: none;\"><div style=\"display: table-cell;\"></div><div style=\"display: table-cell;\">js_event_callbacks&nbsp;=&nbsp;{},</div></div><div class=\"p1509\" style=\"display: none;\"><div style=\"display: table-cell;\"></div><div style=\"display: table-cell;\">js_property_callbacks&nbsp;=&nbsp;{},</div></div><div class=\"p1509\" style=\"display: none;\"><div style=\"display: table-cell;\"></div><div style=\"display: table-cell;\">margin&nbsp;=&nbsp;None,</div></div><div class=\"p1509\" style=\"display: none;\"><div style=\"display: table-cell;\"></div><div style=\"display: table-cell;\">max_height&nbsp;=&nbsp;None,</div></div><div class=\"p1509\" style=\"display: none;\"><div style=\"display: table-cell;\"></div><div style=\"display: table-cell;\">max_width&nbsp;=&nbsp;None,</div></div><div class=\"p1509\" style=\"display: none;\"><div style=\"display: table-cell;\"></div><div style=\"display: table-cell;\">min_height&nbsp;=&nbsp;None,</div></div><div class=\"p1509\" style=\"display: none;\"><div style=\"display: table-cell;\"></div><div style=\"display: table-cell;\">min_width&nbsp;=&nbsp;None,</div></div><div class=\"p1509\" style=\"display: none;\"><div style=\"display: table-cell;\"></div><div style=\"display: table-cell;\">name&nbsp;=&nbsp;None,</div></div><div class=\"p1509\" style=\"display: none;\"><div style=\"display: table-cell;\"></div><div style=\"display: table-cell;\">resizable&nbsp;=&nbsp;False,</div></div><div class=\"p1509\" style=\"display: none;\"><div style=\"display: table-cell;\"></div><div style=\"display: table-cell;\">rows&nbsp;=&nbsp;None,</div></div><div class=\"p1509\" style=\"display: none;\"><div style=\"display: table-cell;\"></div><div style=\"display: table-cell;\">sizing_mode&nbsp;=&nbsp;None,</div></div><div class=\"p1509\" style=\"display: none;\"><div style=\"display: table-cell;\"></div><div style=\"display: table-cell;\">spacing&nbsp;=&nbsp;0,</div></div><div class=\"p1509\" style=\"display: none;\"><div style=\"display: table-cell;\"></div><div style=\"display: table-cell;\">styles&nbsp;=&nbsp;{},</div></div><div class=\"p1509\" style=\"display: none;\"><div style=\"display: table-cell;\"></div><div style=\"display: table-cell;\">stylesheets&nbsp;=&nbsp;[],</div></div><div class=\"p1509\" style=\"display: none;\"><div style=\"display: table-cell;\"></div><div style=\"display: table-cell;\">subscribed_events&nbsp;=&nbsp;PropertyValueSet(),</div></div><div class=\"p1509\" style=\"display: none;\"><div style=\"display: table-cell;\"></div><div style=\"display: table-cell;\">syncable&nbsp;=&nbsp;True,</div></div><div class=\"p1509\" style=\"display: none;\"><div style=\"display: table-cell;\"></div><div style=\"display: table-cell;\">tags&nbsp;=&nbsp;[],</div></div><div class=\"p1509\" style=\"display: none;\"><div style=\"display: table-cell;\"></div><div style=\"display: table-cell;\">toolbar&nbsp;=&nbsp;Toolbar(id='p1499', ...),</div></div><div class=\"p1509\" style=\"display: none;\"><div style=\"display: table-cell;\"></div><div style=\"display: table-cell;\">toolbar_location&nbsp;=&nbsp;'above',</div></div><div class=\"p1509\" style=\"display: none;\"><div style=\"display: table-cell;\"></div><div style=\"display: table-cell;\">visible&nbsp;=&nbsp;True,</div></div><div class=\"p1509\" style=\"display: none;\"><div style=\"display: table-cell;\"></div><div style=\"display: table-cell;\">width&nbsp;=&nbsp;None,</div></div><div class=\"p1509\" style=\"display: none;\"><div style=\"display: table-cell;\"></div><div style=\"display: table-cell;\">width_policy&nbsp;=&nbsp;'auto')</div></div></div>\n",
       "<script>\n",
       "(function() {\n",
       "  let expanded = false;\n",
       "  const ellipsis = document.getElementById(\"p1510\");\n",
       "  ellipsis.addEventListener(\"click\", function() {\n",
       "    const rows = document.getElementsByClassName(\"p1509\");\n",
       "    for (let i = 0; i < rows.length; i++) {\n",
       "      const el = rows[i];\n",
       "      el.style.display = expanded ? \"none\" : \"table-row\";\n",
       "    }\n",
       "    ellipsis.innerHTML = expanded ? \"&hellip;)\" : \"&lsaquo;&lsaquo;&lsaquo;\";\n",
       "    expanded = !expanded;\n",
       "  });\n",
       "})();\n",
       "</script>\n"
      ],
      "text/plain": [
       "GridPlot(id='p1500', ...)"
      ]
     },
     "execution_count": 28,
     "metadata": {},
     "output_type": "execute_result"
    }
   ],
   "source": [
    "output, heatmap = bt.optimize(nt=range(5, 30, 5),\n",
    "                     nk=range(10, 70, 5),\n",
    "                     nsb=range(50, 200, 5),\n",
    "                     maximize='Equity Final [$]',\n",
    "                     constraint=lambda param: param.nt < param.nk < param.nsb, return_heatmap=True)\n",
    "\n",
    "plot_heatmaps(heatmap)"
   ]
  }
 ],
 "metadata": {
  "kernelspec": {
   "display_name": "Python 3 (ipykernel)",
   "language": "python",
   "name": "python3"
  },
  "language_info": {
   "codemirror_mode": {
    "name": "ipython",
    "version": 3
   },
   "file_extension": ".py",
   "mimetype": "text/x-python",
   "name": "python",
   "nbconvert_exporter": "python",
   "pygments_lexer": "ipython3",
   "version": "3.11.4"
  }
 },
 "nbformat": 4,
 "nbformat_minor": 5
}
