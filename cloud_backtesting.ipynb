{
 "cells": [
  {
   "cell_type": "code",
   "execution_count": 176,
   "id": "1f3681d5",
   "metadata": {},
   "outputs": [],
   "source": [
    "#from tiingo import TiingoClient\n",
    "import pandas as pd\n",
    "from datetime import datetime\n",
    "from backtesting import Backtest, Strategy\n",
    "from backtesting.lib import crossover, cross, SignalStrategy\n",
    "from backtesting.test import SMA, GOOG\n",
    "import requests\n",
    "#client = TiingoClient({'api_key': '345fbfca232ab5f373b5d890a7dadd3fafe30112'})"
   ]
  },
  {
   "cell_type": "code",
   "execution_count": 183,
   "id": "59d06139",
   "metadata": {},
   "outputs": [],
   "source": [
    "resp = requests.get('https://api.kraken.com/0/public/OHLC?pair=XBTUSD&interval=240&since=1522030972') "
   ]
  },
  {
   "cell_type": "code",
   "execution_count": 184,
   "id": "ac7af0ac",
   "metadata": {},
   "outputs": [],
   "source": [
    "resp.json()\n",
    "dat = resp.json()['result']\n",
    "data = {}\n",
    "#Using this to format the data into a pandas dataframe"
   ]
  },
  {
   "cell_type": "code",
   "execution_count": 185,
   "id": "3abf7e19",
   "metadata": {},
   "outputs": [],
   "source": [
    "for i in range(len(dat['XXBTZUSD'])):\n",
    "    data[dat['XXBTZUSD'][i][0]] = dat['XXBTZUSD'][i][1:]\n"
   ]
  },
  {
   "cell_type": "code",
   "execution_count": 186,
   "id": "94763cc5",
   "metadata": {},
   "outputs": [],
   "source": [
    "dates = [datetime.fromtimestamp(key) for key in data.keys()]"
   ]
  },
  {
   "cell_type": "code",
   "execution_count": 187,
   "id": "883a3ec2",
   "metadata": {},
   "outputs": [],
   "source": [
    "ohlc_data = [value[:6] for value in data.values()]"
   ]
  },
  {
   "cell_type": "code",
   "execution_count": 188,
   "id": "c444b5db",
   "metadata": {},
   "outputs": [],
   "source": [
    "ohlc_dict = {'Open': [float(val[0]) for val in ohlc_data],\n",
    "             'High': [float(val[1]) for val in ohlc_data],\n",
    "             'Low': [float(val[2]) for val in ohlc_data],\n",
    "             'Close': [float(val[3]) for val in ohlc_data],\n",
    "             'Volume': [float(val[5]) for val in ohlc_data]}"
   ]
  },
  {
   "cell_type": "code",
   "execution_count": 189,
   "id": "4bc8126c",
   "metadata": {},
   "outputs": [],
   "source": [
    "df = pd.DataFrame(ohlc_dict, index=dates)"
   ]
  },
  {
   "cell_type": "code",
   "execution_count": 190,
   "id": "299aa311",
   "metadata": {},
   "outputs": [],
   "source": [
    "df = (df / 1e6).assign(Volume=df.Volume * 1e6)\n",
    "#Because backtesting.py is made for stocks, It doesn't support buying incremental values of BTC so to get around that we're just using price per Sat"
   ]
  },
  {
   "cell_type": "code",
   "execution_count": 11,
   "id": "fbb5aa8b",
   "metadata": {},
   "outputs": [],
   "source": [
    "class SmaCross(Strategy):\n",
    "    n1 = 10\n",
    "    n2 = 20\n",
    "\n",
    "    def init(self):\n",
    "        close = self.data.Close\n",
    "        self.sma1 = self.I(SMA, close, self.n1)\n",
    "        self.sma2 = self.I(SMA, close, self.n2)\n",
    "\n",
    "    def next(self):\n",
    "        if crossover(self.sma1, self.sma2):\n",
    "            self.buy()\n",
    "        elif crossover(self.sma2, self.sma1):\n",
    "            self.sell()\n",
    "\n",
    "#Unused for the cloud strategy, just using as reference"
   ]
  },
  {
   "cell_type": "code",
   "execution_count": 36,
   "id": "8a3b5a2a",
   "metadata": {},
   "outputs": [],
   "source": [
    "def maxminIch(n1, n2):\n",
    "    line = (n1+n2)/2\n",
    "    return line"
   ]
  },
  {
   "attachments": {},
   "cell_type": "markdown",
   "id": "2e2a0153",
   "metadata": {},
   "source": [
    "These functions are calculating the average of period highs/lows for each line. \n",
    "I decided to use multiple functions over a single one (as you can see they all do the same thing) simply for better readability in the strat definition."
   ]
  },
  {
   "cell_type": "code",
   "execution_count": 80,
   "id": "3dae2eb7",
   "metadata": {},
   "outputs": [],
   "source": [
    "def Tenkan(n1, n2):\n",
    "    line = (n1+n2)/2\n",
    "    return line"
   ]
  },
  {
   "cell_type": "code",
   "execution_count": 81,
   "id": "44b32dee",
   "metadata": {},
   "outputs": [],
   "source": [
    "def Kijun(n1, n2):\n",
    "    line = (n1+n2)/2\n",
    "    return line"
   ]
  },
  {
   "cell_type": "code",
   "execution_count": 73,
   "metadata": {},
   "outputs": [],
   "source": [
    "def addshift(s1, window):\n",
    "    shifted = s1.shift(window)\n",
    "    return shifted"
   ]
  },
  {
   "cell_type": "code",
   "execution_count": 100,
   "id": "3d7700c8",
   "metadata": {},
   "outputs": [],
   "source": [
    "def senkouA(s1, window):\n",
    "    shifted = s1.shift(window).fillna(0)\n",
    "    return shifted"
   ]
  },
  {
   "cell_type": "code",
   "execution_count": 98,
   "id": "e3591254",
   "metadata": {},
   "outputs": [],
   "source": [
    "def senkouB(s1, window):\n",
    "    shifted = s1.shift(window).fillna(0)\n",
    "    return shifted"
   ]
  },
  {
   "cell_type": "code",
   "execution_count": 131,
   "id": "601e5f12",
   "metadata": {},
   "outputs": [
    {
     "data": {
      "text/plain": [
       "2022-04-07 19:00:00    0.000000\n",
       "2022-04-08 19:00:00    0.000000\n",
       "2022-04-09 19:00:00    0.000000\n",
       "2022-04-10 19:00:00    0.000000\n",
       "2022-04-11 19:00:00    0.000000\n",
       "                         ...   \n",
       "2024-03-22 19:00:00    0.047612\n",
       "2024-03-23 19:00:00    0.047612\n",
       "2024-03-24 19:00:00    0.047621\n",
       "2024-03-25 19:00:00    0.047761\n",
       "2024-03-26 19:00:00    0.048842\n",
       "Length: 720, dtype: float64"
      ]
     },
     "execution_count": 131,
     "metadata": {},
     "output_type": "execute_result"
    }
   ],
   "source": [
    "t = maxminIch(df['High'].rolling(20).max(), df['Low'].rolling(20).min())\n",
    "k = maxminIch(df['High'].rolling(60).max(), df['Low'].rolling(60).min())\n",
    "senkouB(((df['High'].rolling(20).max() + df['Low'].rolling(20).min()) / 2), 30)\n",
    "#((df['High'].rolling(20).max() + df['Low'].rolling(20).min()) / 2)\n",
    "\n",
    "#T and K are rolling averages of the period high and lows"
   ]
  },
  {
   "cell_type": "code",
   "execution_count": 178,
   "id": "9363d325",
   "metadata": {},
   "outputs": [],
   "source": [
    "class IchimokuCloud(Strategy): #This should be a signal strategy - signals equal to actionable cloud patterns, set entry then pass to set signal\n",
    "    nt = 20\n",
    "    nk = 60\n",
    "    nsb = 120\n",
    "    nc = 30\n",
    "    \n",
    "    def init(self):\n",
    "        close=self.data.Close\n",
    "        self.tenkan = self.I(Tenkan, self.data['High'].s.rolling(self.nt).max(), self.data['Low'].s.rolling(self.nt).min())\n",
    "        self.kijun = self.I(Kijun, self.data['High'].s.rolling(self.nk).max(), self.data['Low'].s.rolling(self.nk).min())\n",
    "        self.senkouA = self.I(senkouA,\n",
    "                              (maxminIch(self.data['High'].s.rolling(self.nt).max(), self.data['Low'].s.rolling(self.nt).min()) + maxminIch(self.data['High'].s.rolling(self.nk).max(), self.data['Low'].s.rolling(self.nk).min()))/2,\n",
    "                              self.nc)\n",
    "        self.senkouB = self.I(senkouB, maxminIch(self.data['High'].s.rolling(self.nsb).max(), self.data['Low'].s.rolling(self.nsb).min()), self.nc)\n",
    "        self.lagging = self.I(addshift, close.s, (self.nc * -1))\n",
    "        \n",
    "    def next(self): #Kumo twist: If Senkou B > Senkou A and next-price > SB, Buy\n",
    "        if (crossover(self.data.Close, self.senkouB) and self.senkouB > self.senkouA): \n",
    "            self.buy()\n",
    "        elif (cross(self.tenkan, self.kijun) and self.kijun > self.tenkan):\n",
    "            self.sell()"
   ]
  },
  {
   "attachments": {},
   "cell_type": "markdown",
   "id": "4544976b",
   "metadata": {},
   "source": [
    "These frames are the cloud strategy. I haven't delved too deep in Backtesting.py so they're fairly simple. It probably wouldn't be difficult to flesh these out into a full strategy. Definitley keep model overfitting in your mind when testing strategies. Here's a great resource to read about it if you're interested: https://www.davidhbailey.com/dhbtalks/battle-quants.pdf"
   ]
  },
  {
   "cell_type": "code",
   "execution_count": 177,
   "id": "fc520ef6",
   "metadata": {},
   "outputs": [],
   "source": [
    "class IchimokuSignals(SignalStrategy):\n",
    "    nt = 20\n",
    "    nk = 60\n",
    "    nsb = 120\n",
    "    nc = 30\n",
    "    \n",
    "    def init(self):\n",
    "        super().init()\n",
    "        #precompute cloud\n",
    "        close=self.data.Close\n",
    "        self.tenkan = self.I(Tenkan, self.data['High'].s.rolling(self.nt).max(), self.data['Low'].s.rolling(self.nt).min())\n",
    "        self.kijun = self.I(Kijun, self.data['High'].s.rolling(self.nk).max(), self.data['Low'].s.rolling(self.nk).min())\n",
    "        self.senkouA = self.I(senkouA,\n",
    "                              (maxminIch(self.data['High'].s.rolling(self.nt).max(), self.data['Low'].s.rolling(self.nt).min()) + maxminIch(self.data['High'].s.rolling(self.nk).max(), self.data['Low'].s.rolling(self.nk).min()))/2,\n",
    "                              self.nc)\n",
    "        self.senkouB = self.I(senkouB, maxminIch(self.data['High'].s.rolling(self.nsb).max(), self.data['Low'].s.rolling(self.nsb).min()), self.nc)\n",
    "        self.lagging = self.I(addshift, close.s, (self.nc * -1))\n",
    "        #establish signal points:\n",
    "        signal = crossover(self.data.Close, self.senkouB) and self.senkouB > self.senkouA #Simple cloud cross strategy\n",
    "        signal = signal"
   ]
  },
  {
   "cell_type": "code",
   "execution_count": 191,
   "id": "a7127540",
   "metadata": {},
   "outputs": [],
   "source": [
    "bt = Backtest(df, IchimokuCloud,\n",
    "              cash=100, commission=.002,\n",
    "              exclusive_orders=True, margin=0.5)"
   ]
  },
  {
   "attachments": {},
   "cell_type": "markdown",
   "id": "f5075eab",
   "metadata": {},
   "source": [
    "This function starts the backtest, values can be anything you want. Exclusive orders just means you wont open new positions if you're already in one."
   ]
  },
  {
   "cell_type": "code",
   "execution_count": 192,
   "id": "9d879022",
   "metadata": {},
   "outputs": [
    {
     "name": "stderr",
     "output_type": "stream",
     "text": [
      "BokehDeprecationWarning: Passing lists of formats for DatetimeTickFormatter scales was deprecated in Bokeh 3.0. Configure a single string format for each scale\n",
      "/Users/iowapsychopath/anaconda3/lib/python3.11/site-packages/backtesting/_plotting.py:250: UserWarning: DatetimeFormatter scales now only accept a single format. Using the first provided: '%d %b'\n",
      "  formatter=DatetimeTickFormatter(days=['%d %b', '%a %d'],\n",
      "BokehDeprecationWarning: Passing lists of formats for DatetimeTickFormatter scales was deprecated in Bokeh 3.0. Configure a single string format for each scale\n",
      "/Users/iowapsychopath/anaconda3/lib/python3.11/site-packages/backtesting/_plotting.py:250: UserWarning: DatetimeFormatter scales now only accept a single format. Using the first provided: '%m/%Y'\n",
      "  formatter=DatetimeTickFormatter(days=['%d %b', '%a %d'],\n"
     ]
    },
    {
     "data": {
      "text/html": [
       "<div style=\"display: table;\"><div style=\"display: table-row;\"><div style=\"display: table-cell;\"><b title=\"bokeh.models.plots.GridPlot\">GridPlot</b>(</div><div style=\"display: table-cell;\">id&nbsp;=&nbsp;'p7587', <span id=\"p7622\" style=\"cursor: pointer;\">&hellip;)</span></div></div><div class=\"p7621\" style=\"display: none;\"><div style=\"display: table-cell;\"></div><div style=\"display: table-cell;\">align&nbsp;=&nbsp;'auto',</div></div><div class=\"p7621\" style=\"display: none;\"><div style=\"display: table-cell;\"></div><div style=\"display: table-cell;\">aspect_ratio&nbsp;=&nbsp;None,</div></div><div class=\"p7621\" style=\"display: none;\"><div style=\"display: table-cell;\"></div><div style=\"display: table-cell;\">children&nbsp;=&nbsp;[(figure(id='p7290', ...), 0, 0), (figure(id='p7383', ...), 1, 0), (figure(id='p7250', ...), 2, 0), (figure(id='p7434', ...), 3, 0)],</div></div><div class=\"p7621\" style=\"display: none;\"><div style=\"display: table-cell;\"></div><div style=\"display: table-cell;\">cols&nbsp;=&nbsp;None,</div></div><div class=\"p7621\" style=\"display: none;\"><div style=\"display: table-cell;\"></div><div style=\"display: table-cell;\">context_menu&nbsp;=&nbsp;None,</div></div><div class=\"p7621\" style=\"display: none;\"><div style=\"display: table-cell;\"></div><div style=\"display: table-cell;\">css_classes&nbsp;=&nbsp;[],</div></div><div class=\"p7621\" style=\"display: none;\"><div style=\"display: table-cell;\"></div><div style=\"display: table-cell;\">disabled&nbsp;=&nbsp;False,</div></div><div class=\"p7621\" style=\"display: none;\"><div style=\"display: table-cell;\"></div><div style=\"display: table-cell;\">flow_mode&nbsp;=&nbsp;'block',</div></div><div class=\"p7621\" style=\"display: none;\"><div style=\"display: table-cell;\"></div><div style=\"display: table-cell;\">height&nbsp;=&nbsp;None,</div></div><div class=\"p7621\" style=\"display: none;\"><div style=\"display: table-cell;\"></div><div style=\"display: table-cell;\">height_policy&nbsp;=&nbsp;'auto',</div></div><div class=\"p7621\" style=\"display: none;\"><div style=\"display: table-cell;\"></div><div style=\"display: table-cell;\">js_event_callbacks&nbsp;=&nbsp;{},</div></div><div class=\"p7621\" style=\"display: none;\"><div style=\"display: table-cell;\"></div><div style=\"display: table-cell;\">js_property_callbacks&nbsp;=&nbsp;{},</div></div><div class=\"p7621\" style=\"display: none;\"><div style=\"display: table-cell;\"></div><div style=\"display: table-cell;\">margin&nbsp;=&nbsp;None,</div></div><div class=\"p7621\" style=\"display: none;\"><div style=\"display: table-cell;\"></div><div style=\"display: table-cell;\">max_height&nbsp;=&nbsp;None,</div></div><div class=\"p7621\" style=\"display: none;\"><div style=\"display: table-cell;\"></div><div style=\"display: table-cell;\">max_width&nbsp;=&nbsp;None,</div></div><div class=\"p7621\" style=\"display: none;\"><div style=\"display: table-cell;\"></div><div style=\"display: table-cell;\">min_height&nbsp;=&nbsp;None,</div></div><div class=\"p7621\" style=\"display: none;\"><div style=\"display: table-cell;\"></div><div style=\"display: table-cell;\">min_width&nbsp;=&nbsp;None,</div></div><div class=\"p7621\" style=\"display: none;\"><div style=\"display: table-cell;\"></div><div style=\"display: table-cell;\">name&nbsp;=&nbsp;None,</div></div><div class=\"p7621\" style=\"display: none;\"><div style=\"display: table-cell;\"></div><div style=\"display: table-cell;\">resizable&nbsp;=&nbsp;False,</div></div><div class=\"p7621\" style=\"display: none;\"><div style=\"display: table-cell;\"></div><div style=\"display: table-cell;\">rows&nbsp;=&nbsp;None,</div></div><div class=\"p7621\" style=\"display: none;\"><div style=\"display: table-cell;\"></div><div style=\"display: table-cell;\">sizing_mode&nbsp;=&nbsp;'stretch_width',</div></div><div class=\"p7621\" style=\"display: none;\"><div style=\"display: table-cell;\"></div><div style=\"display: table-cell;\">spacing&nbsp;=&nbsp;0,</div></div><div class=\"p7621\" style=\"display: none;\"><div style=\"display: table-cell;\"></div><div style=\"display: table-cell;\">styles&nbsp;=&nbsp;{},</div></div><div class=\"p7621\" style=\"display: none;\"><div style=\"display: table-cell;\"></div><div style=\"display: table-cell;\">stylesheets&nbsp;=&nbsp;[],</div></div><div class=\"p7621\" style=\"display: none;\"><div style=\"display: table-cell;\"></div><div style=\"display: table-cell;\">subscribed_events&nbsp;=&nbsp;PropertyValueSet(),</div></div><div class=\"p7621\" style=\"display: none;\"><div style=\"display: table-cell;\"></div><div style=\"display: table-cell;\">syncable&nbsp;=&nbsp;True,</div></div><div class=\"p7621\" style=\"display: none;\"><div style=\"display: table-cell;\"></div><div style=\"display: table-cell;\">tags&nbsp;=&nbsp;[],</div></div><div class=\"p7621\" style=\"display: none;\"><div style=\"display: table-cell;\"></div><div style=\"display: table-cell;\">toolbar&nbsp;=&nbsp;Toolbar(id='p7586', ...),</div></div><div class=\"p7621\" style=\"display: none;\"><div style=\"display: table-cell;\"></div><div style=\"display: table-cell;\">toolbar_location&nbsp;=&nbsp;'right',</div></div><div class=\"p7621\" style=\"display: none;\"><div style=\"display: table-cell;\"></div><div style=\"display: table-cell;\">visible&nbsp;=&nbsp;True,</div></div><div class=\"p7621\" style=\"display: none;\"><div style=\"display: table-cell;\"></div><div style=\"display: table-cell;\">width&nbsp;=&nbsp;None,</div></div><div class=\"p7621\" style=\"display: none;\"><div style=\"display: table-cell;\"></div><div style=\"display: table-cell;\">width_policy&nbsp;=&nbsp;'auto')</div></div></div>\n",
       "<script>\n",
       "(function() {\n",
       "  let expanded = false;\n",
       "  const ellipsis = document.getElementById(\"p7622\");\n",
       "  ellipsis.addEventListener(\"click\", function() {\n",
       "    const rows = document.getElementsByClassName(\"p7621\");\n",
       "    for (let i = 0; i < rows.length; i++) {\n",
       "      const el = rows[i];\n",
       "      el.style.display = expanded ? \"none\" : \"table-row\";\n",
       "    }\n",
       "    ellipsis.innerHTML = expanded ? \"&hellip;)\" : \"&lsaquo;&lsaquo;&lsaquo;\";\n",
       "    expanded = !expanded;\n",
       "  });\n",
       "})();\n",
       "</script>\n"
      ],
      "text/plain": [
       "GridPlot(id='p7587', ...)"
      ]
     },
     "execution_count": 192,
     "metadata": {},
     "output_type": "execute_result"
    }
   ],
   "source": [
    "output = bt.run()\n",
    "bt.plot()"
   ]
  },
  {
   "cell_type": "code",
   "execution_count": 193,
   "id": "acd655bc",
   "metadata": {},
   "outputs": [
    {
     "data": {
      "text/html": [
       "<div>\n",
       "<style scoped>\n",
       "    .dataframe tbody tr th:only-of-type {\n",
       "        vertical-align: middle;\n",
       "    }\n",
       "\n",
       "    .dataframe tbody tr th {\n",
       "        vertical-align: top;\n",
       "    }\n",
       "\n",
       "    .dataframe thead th {\n",
       "        text-align: right;\n",
       "    }\n",
       "</style>\n",
       "<table border=\"1\" class=\"dataframe\">\n",
       "  <thead>\n",
       "    <tr style=\"text-align: right;\">\n",
       "      <th></th>\n",
       "      <th>Size</th>\n",
       "      <th>EntryBar</th>\n",
       "      <th>ExitBar</th>\n",
       "      <th>EntryPrice</th>\n",
       "      <th>ExitPrice</th>\n",
       "      <th>PnL</th>\n",
       "      <th>ReturnPct</th>\n",
       "      <th>EntryTime</th>\n",
       "      <th>ExitTime</th>\n",
       "      <th>Duration</th>\n",
       "    </tr>\n",
       "  </thead>\n",
       "  <tbody>\n",
       "    <tr>\n",
       "      <th>0</th>\n",
       "      <td>-4847</td>\n",
       "      <td>71</td>\n",
       "      <td>135</td>\n",
       "      <td>0.041262</td>\n",
       "      <td>0.042450</td>\n",
       "      <td>-5.757697</td>\n",
       "      <td>-0.028789</td>\n",
       "      <td>2023-12-17 18:00:00</td>\n",
       "      <td>2023-12-28 10:00:00</td>\n",
       "      <td>10 days 16:00:00</td>\n",
       "    </tr>\n",
       "    <tr>\n",
       "      <th>1</th>\n",
       "      <td>-4449</td>\n",
       "      <td>135</td>\n",
       "      <td>371</td>\n",
       "      <td>0.042365</td>\n",
       "      <td>0.042650</td>\n",
       "      <td>-1.269296</td>\n",
       "      <td>-0.006734</td>\n",
       "      <td>2023-12-28 10:00:00</td>\n",
       "      <td>2024-02-05 18:00:00</td>\n",
       "      <td>39 days 08:00:00</td>\n",
       "    </tr>\n",
       "    <tr>\n",
       "      <th>2</th>\n",
       "      <td>4351</td>\n",
       "      <td>371</td>\n",
       "      <td>482</td>\n",
       "      <td>0.042735</td>\n",
       "      <td>0.051094</td>\n",
       "      <td>36.366963</td>\n",
       "      <td>0.195583</td>\n",
       "      <td>2024-02-05 18:00:00</td>\n",
       "      <td>2024-02-24 06:00:00</td>\n",
       "      <td>18 days 12:00:00</td>\n",
       "    </tr>\n",
       "    <tr>\n",
       "      <th>3</th>\n",
       "      <td>-5073</td>\n",
       "      <td>482</td>\n",
       "      <td>659</td>\n",
       "      <td>0.050991</td>\n",
       "      <td>0.067199</td>\n",
       "      <td>-82.221597</td>\n",
       "      <td>-0.317851</td>\n",
       "      <td>2024-02-24 06:00:00</td>\n",
       "      <td>2024-03-24 19:00:00</td>\n",
       "      <td>29 days 13:00:00</td>\n",
       "    </tr>\n",
       "    <tr>\n",
       "      <th>4</th>\n",
       "      <td>1399</td>\n",
       "      <td>659</td>\n",
       "      <td>715</td>\n",
       "      <td>0.067333</td>\n",
       "      <td>0.066186</td>\n",
       "      <td>-1.605210</td>\n",
       "      <td>-0.017041</td>\n",
       "      <td>2024-03-24 19:00:00</td>\n",
       "      <td>2024-04-03 03:00:00</td>\n",
       "      <td>9 days 08:00:00</td>\n",
       "    </tr>\n",
       "    <tr>\n",
       "      <th>5</th>\n",
       "      <td>-1378</td>\n",
       "      <td>715</td>\n",
       "      <td>719</td>\n",
       "      <td>0.066054</td>\n",
       "      <td>0.065991</td>\n",
       "      <td>0.085888</td>\n",
       "      <td>0.000944</td>\n",
       "      <td>2024-04-03 03:00:00</td>\n",
       "      <td>2024-04-03 19:00:00</td>\n",
       "      <td>0 days 16:00:00</td>\n",
       "    </tr>\n",
       "  </tbody>\n",
       "</table>\n",
       "</div>"
      ],
      "text/plain": [
       "   Size  EntryBar  ExitBar  EntryPrice  ExitPrice        PnL  ReturnPct  \\\n",
       "0 -4847        71      135    0.041262   0.042450  -5.757697  -0.028789   \n",
       "1 -4449       135      371    0.042365   0.042650  -1.269296  -0.006734   \n",
       "2  4351       371      482    0.042735   0.051094  36.366963   0.195583   \n",
       "3 -5073       482      659    0.050991   0.067199 -82.221597  -0.317851   \n",
       "4  1399       659      715    0.067333   0.066186  -1.605210  -0.017041   \n",
       "5 -1378       715      719    0.066054   0.065991   0.085888   0.000944   \n",
       "\n",
       "            EntryTime            ExitTime         Duration  \n",
       "0 2023-12-17 18:00:00 2023-12-28 10:00:00 10 days 16:00:00  \n",
       "1 2023-12-28 10:00:00 2024-02-05 18:00:00 39 days 08:00:00  \n",
       "2 2024-02-05 18:00:00 2024-02-24 06:00:00 18 days 12:00:00  \n",
       "3 2024-02-24 06:00:00 2024-03-24 19:00:00 29 days 13:00:00  \n",
       "4 2024-03-24 19:00:00 2024-04-03 03:00:00  9 days 08:00:00  \n",
       "5 2024-04-03 03:00:00 2024-04-03 19:00:00  0 days 16:00:00  "
      ]
     },
     "execution_count": 193,
     "metadata": {},
     "output_type": "execute_result"
    }
   ],
   "source": [
    "output['_trades']"
   ]
  },
  {
   "cell_type": "code",
   "execution_count": 194,
   "id": "b86073fb",
   "metadata": {},
   "outputs": [
    {
     "data": {
      "text/plain": [
       "Start                     2023-12-05 22:00:00\n",
       "End                       2024-04-03 19:00:00\n",
       "Duration                    119 days 21:00:00\n",
       "Exposure Time [%]                   90.138889\n",
       "Equity Final [$]                    45.599051\n",
       "Equity Peak [$]                    135.038475\n",
       "Return [%]                         -54.400949\n",
       "Buy & Hold Return [%]               51.113324\n",
       "Return (Ann.) [%]                  -90.640981\n",
       "Volatility (Ann.) [%]             1849.232157\n",
       "Sharpe Ratio                              0.0\n",
       "Sortino Ratio                             0.0\n",
       "Calmar Ratio                              0.0\n",
       "Max. Drawdown [%]                  -88.579352\n",
       "Avg. Drawdown [%]                  -12.638636\n",
       "Max. Drawdown Duration       44 days 21:00:00\n",
       "Avg. Drawdown Duration        8 days 21:00:00\n",
       "# Trades                                    6\n",
       "Win Rate [%]                        33.333333\n",
       "Best Trade [%]                      19.558304\n",
       "Worst Trade [%]                    -31.785131\n",
       "Avg. Trade [%]                       -4.17831\n",
       "Max. Trade Duration          39 days 08:00:00\n",
       "Avg. Trade Duration          18 days 01:00:00\n",
       "Profit Factor                        0.530558\n",
       "Expectancy [%]                      -2.898145\n",
       "SQN                                  -0.56864\n",
       "_strategy                       IchimokuCloud\n",
       "_equity_curve                             ...\n",
       "_trades                      Size  EntryBa...\n",
       "dtype: object"
      ]
     },
     "execution_count": 194,
     "metadata": {},
     "output_type": "execute_result"
    }
   ],
   "source": [
    "output"
   ]
  },
  {
   "cell_type": "code",
   "execution_count": 118,
   "id": "8e945578",
   "metadata": {},
   "outputs": [
    {
     "data": {
      "text/html": [
       "<div>\n",
       "<style scoped>\n",
       "    .dataframe tbody tr th:only-of-type {\n",
       "        vertical-align: middle;\n",
       "    }\n",
       "\n",
       "    .dataframe tbody tr th {\n",
       "        vertical-align: top;\n",
       "    }\n",
       "\n",
       "    .dataframe thead th {\n",
       "        text-align: right;\n",
       "    }\n",
       "</style>\n",
       "<table border=\"1\" class=\"dataframe\">\n",
       "  <thead>\n",
       "    <tr style=\"text-align: right;\">\n",
       "      <th></th>\n",
       "      <th>Size</th>\n",
       "      <th>EntryBar</th>\n",
       "      <th>ExitBar</th>\n",
       "      <th>EntryPrice</th>\n",
       "      <th>ExitPrice</th>\n",
       "      <th>PnL</th>\n",
       "      <th>ReturnPct</th>\n",
       "      <th>EntryTime</th>\n",
       "      <th>ExitTime</th>\n",
       "      <th>Duration</th>\n",
       "    </tr>\n",
       "  </thead>\n",
       "  <tbody>\n",
       "    <tr>\n",
       "      <th>0</th>\n",
       "      <td>467997</td>\n",
       "      <td>421</td>\n",
       "      <td>709</td>\n",
       "      <td>0.042735</td>\n",
       "      <td>0.067199</td>\n",
       "      <td>11448.985009</td>\n",
       "      <td>0.572449</td>\n",
       "      <td>2024-02-05 18:00:00</td>\n",
       "      <td>2024-03-24 19:00:00</td>\n",
       "      <td>48 days 01:00:00</td>\n",
       "    </tr>\n",
       "    <tr>\n",
       "      <th>1</th>\n",
       "      <td>637097</td>\n",
       "      <td>709</td>\n",
       "      <td>719</td>\n",
       "      <td>0.067333</td>\n",
       "      <td>0.070275</td>\n",
       "      <td>1874.276811</td>\n",
       "      <td>0.043692</td>\n",
       "      <td>2024-03-24 19:00:00</td>\n",
       "      <td>2024-03-26 11:00:00</td>\n",
       "      <td>1 days 16:00:00</td>\n",
       "    </tr>\n",
       "  </tbody>\n",
       "</table>\n",
       "</div>"
      ],
      "text/plain": [
       "     Size  EntryBar  ExitBar  EntryPrice  ExitPrice           PnL  ReturnPct  \\\n",
       "0  467997       421      709    0.042735   0.067199  11448.985009   0.572449   \n",
       "1  637097       709      719    0.067333   0.070275   1874.276811   0.043692   \n",
       "\n",
       "            EntryTime            ExitTime         Duration  \n",
       "0 2024-02-05 18:00:00 2024-03-24 19:00:00 48 days 01:00:00  \n",
       "1 2024-03-24 19:00:00 2024-03-26 11:00:00  1 days 16:00:00  "
      ]
     },
     "execution_count": 118,
     "metadata": {},
     "output_type": "execute_result"
    }
   ],
   "source": [
    "output['_trades']"
   ]
  },
  {
   "cell_type": "code",
   "execution_count": 146,
   "id": "b9ae3533",
   "metadata": {},
   "outputs": [
    {
     "name": "stderr",
     "output_type": "stream",
     "text": [
      "/Users/iowapsychopath/anaconda3/lib/python3.11/site-packages/backtesting/backtesting.py:1488: UserWarning: Searching for best of 1450 configurations.\n",
      "  output = _optimize_grid()\n",
      "/Users/iowapsychopath/anaconda3/lib/python3.11/site-packages/backtesting/backtesting.py:1375: UserWarning: For multiprocessing support in `Backtest.optimize()` set multiprocessing start method to 'fork'.\n",
      "  warnings.warn(\"For multiprocessing support in `Backtest.optimize()` \"\n"
     ]
    },
    {
     "data": {
      "application/vnd.jupyter.widget-view+json": {
       "model_id": "e10ef9c4fea04773b3656397f761d3bd",
       "version_major": 2,
       "version_minor": 0
      },
      "text/plain": [
       "  0%|          | 0/5 [00:00<?, ?it/s]"
      ]
     },
     "metadata": {},
     "output_type": "display_data"
    },
    {
     "ename": "ValueError",
     "evalue": "heatmap must be heatmap Series as returned by `Backtest.optimize(..., return_heatmap=True)`",
     "output_type": "error",
     "traceback": [
      "\u001b[0;31m---------------------------------------------------------------------------\u001b[0m",
      "\u001b[0;31mValueError\u001b[0m                                Traceback (most recent call last)",
      "Cell \u001b[0;32mIn[146], line 7\u001b[0m\n\u001b[1;32m      1\u001b[0m output \u001b[39m=\u001b[39m bt\u001b[39m.\u001b[39moptimize(nt\u001b[39m=\u001b[39m\u001b[39mrange\u001b[39m(\u001b[39m5\u001b[39m, \u001b[39m30\u001b[39m, \u001b[39m5\u001b[39m),\n\u001b[1;32m      2\u001b[0m                      nk\u001b[39m=\u001b[39m\u001b[39mrange\u001b[39m(\u001b[39m10\u001b[39m, \u001b[39m70\u001b[39m, \u001b[39m5\u001b[39m),\n\u001b[1;32m      3\u001b[0m                      nsb\u001b[39m=\u001b[39m\u001b[39mrange\u001b[39m(\u001b[39m50\u001b[39m, \u001b[39m200\u001b[39m, \u001b[39m5\u001b[39m),\n\u001b[1;32m      4\u001b[0m                      maximize\u001b[39m=\u001b[39m\u001b[39m'\u001b[39m\u001b[39mEquity Final [$]\u001b[39m\u001b[39m'\u001b[39m,\n\u001b[1;32m      5\u001b[0m                      constraint\u001b[39m=\u001b[39m\u001b[39mlambda\u001b[39;00m param: param\u001b[39m.\u001b[39mnt \u001b[39m<\u001b[39m param\u001b[39m.\u001b[39mnk \u001b[39m<\u001b[39m param\u001b[39m.\u001b[39mnsb, return_heatmap\u001b[39m=\u001b[39m\u001b[39mTrue\u001b[39;00m)\n\u001b[0;32m----> 7\u001b[0m plot_heatmaps(output)\n",
      "File \u001b[0;32m~/anaconda3/lib/python3.11/site-packages/backtesting/lib.py:141\u001b[0m, in \u001b[0;36mplot_heatmaps\u001b[0;34m(heatmap, agg, ncols, plot_width, filename, open_browser)\u001b[0m\n\u001b[1;32m    115\u001b[0m \u001b[39mdef\u001b[39;00m \u001b[39mplot_heatmaps\u001b[39m(heatmap: pd\u001b[39m.\u001b[39mSeries,\n\u001b[1;32m    116\u001b[0m                   agg: Union[\u001b[39mstr\u001b[39m, Callable] \u001b[39m=\u001b[39m \u001b[39m'\u001b[39m\u001b[39mmax\u001b[39m\u001b[39m'\u001b[39m,\n\u001b[1;32m    117\u001b[0m                   \u001b[39m*\u001b[39m,\n\u001b[0;32m   (...)\u001b[0m\n\u001b[1;32m    120\u001b[0m                   filename: \u001b[39mstr\u001b[39m \u001b[39m=\u001b[39m \u001b[39m'\u001b[39m\u001b[39m'\u001b[39m,\n\u001b[1;32m    121\u001b[0m                   open_browser: \u001b[39mbool\u001b[39m \u001b[39m=\u001b[39m \u001b[39mTrue\u001b[39;00m):\n\u001b[1;32m    122\u001b[0m \u001b[39m    \u001b[39m\u001b[39m\"\"\"\u001b[39;00m\n\u001b[1;32m    123\u001b[0m \u001b[39m    Plots a grid of heatmaps, one for every pair of parameters in `heatmap`.\u001b[39;00m\n\u001b[1;32m    124\u001b[0m \n\u001b[0;32m   (...)\u001b[0m\n\u001b[1;32m    139\u001b[0m \u001b[39m        https://scikit-optimize.github.io/stable/modules/plots.html#plot-objective\u001b[39;00m\n\u001b[1;32m    140\u001b[0m \u001b[39m    \"\"\"\u001b[39;00m\n\u001b[0;32m--> 141\u001b[0m     \u001b[39mreturn\u001b[39;00m _plot_heatmaps(heatmap, agg, ncols, filename, plot_width, open_browser)\n",
      "File \u001b[0;32m~/anaconda3/lib/python3.11/site-packages/backtesting/_plotting.py:675\u001b[0m, in \u001b[0;36mplot_heatmaps\u001b[0;34m(heatmap, agg, ncols, filename, plot_width, open_browser)\u001b[0m\n\u001b[1;32m    671\u001b[0m \u001b[39mdef\u001b[39;00m \u001b[39mplot_heatmaps\u001b[39m(heatmap: pd\u001b[39m.\u001b[39mSeries, agg: Union[Callable, \u001b[39mstr\u001b[39m], ncols: \u001b[39mint\u001b[39m,\n\u001b[1;32m    672\u001b[0m                   filename: \u001b[39mstr\u001b[39m \u001b[39m=\u001b[39m \u001b[39m'\u001b[39m\u001b[39m'\u001b[39m, plot_width: \u001b[39mint\u001b[39m \u001b[39m=\u001b[39m \u001b[39m1200\u001b[39m, open_browser: \u001b[39mbool\u001b[39m \u001b[39m=\u001b[39m \u001b[39mTrue\u001b[39;00m):\n\u001b[1;32m    673\u001b[0m     \u001b[39mif\u001b[39;00m \u001b[39mnot\u001b[39;00m (\u001b[39misinstance\u001b[39m(heatmap, pd\u001b[39m.\u001b[39mSeries) \u001b[39mand\u001b[39;00m\n\u001b[1;32m    674\u001b[0m             \u001b[39misinstance\u001b[39m(heatmap\u001b[39m.\u001b[39mindex, pd\u001b[39m.\u001b[39mMultiIndex)):\n\u001b[0;32m--> 675\u001b[0m         \u001b[39mraise\u001b[39;00m \u001b[39mValueError\u001b[39;00m(\u001b[39m'\u001b[39m\u001b[39mheatmap must be heatmap Series as returned by \u001b[39m\u001b[39m'\u001b[39m\n\u001b[1;32m    676\u001b[0m                          \u001b[39m'\u001b[39m\u001b[39m`Backtest.optimize(..., return_heatmap=True)`\u001b[39m\u001b[39m'\u001b[39m)\n\u001b[1;32m    678\u001b[0m     _bokeh_reset(filename)\n\u001b[1;32m    680\u001b[0m     param_combinations \u001b[39m=\u001b[39m combinations(heatmap\u001b[39m.\u001b[39mindex\u001b[39m.\u001b[39mnames, \u001b[39m2\u001b[39m)\n",
      "\u001b[0;31mValueError\u001b[0m: heatmap must be heatmap Series as returned by `Backtest.optimize(..., return_heatmap=True)`"
     ]
    }
   ],
   "source": [
    "output = bt.optimize(nt=range(5, 30, 5),\n",
    "                     nk=range(10, 70, 5),\n",
    "                     nsb=range(50, 200, 5),\n",
    "                     maximize='Equity Final [$]',\n",
    "                     constraint=lambda param: param.nt < param.nk < param.nsb, return_heatmap=True)\n",
    "\n",
    "plot_heatmaps(output)"
   ]
  }
 ],
 "metadata": {
  "kernelspec": {
   "display_name": "Python 3 (ipykernel)",
   "language": "python",
   "name": "python3"
  },
  "language_info": {
   "codemirror_mode": {
    "name": "ipython",
    "version": 3
   },
   "file_extension": ".py",
   "mimetype": "text/x-python",
   "name": "python",
   "nbconvert_exporter": "python",
   "pygments_lexer": "ipython3",
   "version": "3.11.4"
  }
 },
 "nbformat": 4,
 "nbformat_minor": 5
}
